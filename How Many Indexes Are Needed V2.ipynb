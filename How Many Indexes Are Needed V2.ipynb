{
 "cells": [
  {
   "cell_type": "code",
   "execution_count": 1,
   "metadata": {},
   "outputs": [],
   "source": [
    "def common_data(list1,list2): \n",
    "    result = False\n",
    "  \n",
    "    # traverse in the 1st list \n",
    "    for x in list1: \n",
    "  \n",
    "        # traverse in the 2nd list \n",
    "        for y in list2: \n",
    "    \n",
    "            # if one common \n",
    "            if x == y: \n",
    "                result = True\n",
    "                return result  \n",
    "                  \n",
    "    return result "
   ]
  },
  {
   "cell_type": "code",
   "execution_count": 2,
   "metadata": {},
   "outputs": [],
   "source": [
    "f_in = open('phy_iter0.fasta').readlines() #Enter the file name of a FASTA File\n",
    "\n",
    "headers, sequences = [],[]\n",
    "\n",
    "for i,line in enumerate(f_in):\n",
    "    sequences.append(line.strip())"
   ]
  },
  {
   "cell_type": "code",
   "execution_count": 3,
   "metadata": {},
   "outputs": [],
   "source": [
    "window = 300 #Enter the sliding window frame (What the length of your fragments to be)"
   ]
  },
  {
   "cell_type": "code",
   "execution_count": 4,
   "metadata": {},
   "outputs": [],
   "source": [
    "total_fragments = []\n",
    "\n",
    "for s in sequences:\n",
    "    sequence_fragments = [s[i:i+window] for i in range(len(s)-(window -1))]\n",
    "    total_fragments.append(sequence_fragments)"
   ]
  },
  {
   "cell_type": "code",
   "execution_count": 5,
   "metadata": {},
   "outputs": [
    {
     "ename": "KeyboardInterrupt",
     "evalue": "",
     "output_type": "error",
     "traceback": [
      "\u001b[0;31m---------------------------------------------------------------------------\u001b[0m",
      "\u001b[0;31mKeyboardInterrupt\u001b[0m                         Traceback (most recent call last)",
      "\u001b[0;32m<ipython-input-5-5a24073870d2>\u001b[0m in \u001b[0;36m<module>\u001b[0;34m\u001b[0m\n\u001b[1;32m     11\u001b[0m \u001b[0;34m\u001b[0m\u001b[0m\n\u001b[1;32m     12\u001b[0m \u001b[0;32mfor\u001b[0m \u001b[0mi\u001b[0m \u001b[0;32min\u001b[0m \u001b[0mrange\u001b[0m\u001b[0;34m(\u001b[0m\u001b[0mlen\u001b[0m\u001b[0;34m(\u001b[0m\u001b[0msequences\u001b[0m\u001b[0;34m)\u001b[0m \u001b[0;34m-\u001b[0m \u001b[0;36m1\u001b[0m\u001b[0;34m)\u001b[0m\u001b[0;34m:\u001b[0m\u001b[0;34m\u001b[0m\u001b[0;34m\u001b[0m\u001b[0m\n\u001b[0;32m---> 13\u001b[0;31m     \u001b[0;32mif\u001b[0m \u001b[0mcommon_data\u001b[0m\u001b[0;34m(\u001b[0m\u001b[0mflat_index1\u001b[0m\u001b[0;34m,\u001b[0m\u001b[0mtotal_fragments\u001b[0m\u001b[0;34m[\u001b[0m\u001b[0;36m0\u001b[0m\u001b[0;34m]\u001b[0m\u001b[0;34m)\u001b[0m \u001b[0;34m==\u001b[0m \u001b[0;32mFalse\u001b[0m\u001b[0;34m:\u001b[0m\u001b[0;34m\u001b[0m\u001b[0;34m\u001b[0m\u001b[0m\n\u001b[0m\u001b[1;32m     14\u001b[0m         \u001b[0mindex1\u001b[0m\u001b[0;34m.\u001b[0m\u001b[0mappend\u001b[0m\u001b[0;34m(\u001b[0m\u001b[0mtotal_fragments\u001b[0m\u001b[0;34m.\u001b[0m\u001b[0mpop\u001b[0m\u001b[0;34m(\u001b[0m\u001b[0;36m0\u001b[0m\u001b[0;34m)\u001b[0m\u001b[0;34m)\u001b[0m\u001b[0;34m\u001b[0m\u001b[0;34m\u001b[0m\u001b[0m\n\u001b[1;32m     15\u001b[0m         \u001b[0mflat_index1\u001b[0m \u001b[0;34m=\u001b[0m \u001b[0;34m[\u001b[0m \u001b[0mitem\u001b[0m \u001b[0;32mfor\u001b[0m \u001b[0melem\u001b[0m \u001b[0;32min\u001b[0m \u001b[0mindex1\u001b[0m \u001b[0;32mfor\u001b[0m \u001b[0mitem\u001b[0m \u001b[0;32min\u001b[0m \u001b[0melem\u001b[0m\u001b[0;34m]\u001b[0m\u001b[0;34m\u001b[0m\u001b[0;34m\u001b[0m\u001b[0m\n",
      "\u001b[0;32m<ipython-input-1-d2163acc52e8>\u001b[0m in \u001b[0;36mcommon_data\u001b[0;34m(list1, list2)\u001b[0m\n\u001b[1;32m      9\u001b[0m \u001b[0;34m\u001b[0m\u001b[0m\n\u001b[1;32m     10\u001b[0m             \u001b[0;31m# if one common\u001b[0m\u001b[0;34m\u001b[0m\u001b[0;34m\u001b[0m\u001b[0;34m\u001b[0m\u001b[0m\n\u001b[0;32m---> 11\u001b[0;31m             \u001b[0;32mif\u001b[0m \u001b[0mx\u001b[0m \u001b[0;34m==\u001b[0m \u001b[0my\u001b[0m\u001b[0;34m:\u001b[0m\u001b[0;34m\u001b[0m\u001b[0;34m\u001b[0m\u001b[0m\n\u001b[0m\u001b[1;32m     12\u001b[0m                 \u001b[0mresult\u001b[0m \u001b[0;34m=\u001b[0m \u001b[0;32mTrue\u001b[0m\u001b[0;34m\u001b[0m\u001b[0;34m\u001b[0m\u001b[0m\n\u001b[1;32m     13\u001b[0m                 \u001b[0;32mreturn\u001b[0m \u001b[0mresult\u001b[0m\u001b[0;34m\u001b[0m\u001b[0;34m\u001b[0m\u001b[0m\n",
      "\u001b[0;31mKeyboardInterrupt\u001b[0m: "
     ]
    }
   ],
   "source": [
    "index1,index2,index3,index4,index5,index6,index7,index8,index9,index10 = [],[],[],[],[],[],[],[],[],[]\n",
    "flat_index1,flat_index2,flat_index3,flat_index4,flat_index5,flat_index6,flat_index7,flat_index8,flat_index9,flat_index10 = [],[],[],[],[],[],[],[],[],[]\n",
    "c1,c2,c3,c4,c5,c6,c7,c8,c9,c10= [],[],[],[],[],[],[],[],[],[]\n",
    "\n",
    "flat_index1.append(total_fragments[0])\n",
    "flat_index1 = [ item for elem in flat_index1 for item in elem]\n",
    "index1.append(total_fragments.pop(0))\n",
    "c1 = [1]\n",
    "seqcount = 2\n",
    "\n",
    "\n",
    "for i in range(len(sequences) - 1):\n",
    "    if common_data(flat_index1,total_fragments[0]) == False:\n",
    "        index1.append(total_fragments.pop(0))\n",
    "        flat_index1 = [ item for elem in index1 for item in elem]\n",
    "        c1.append(seqcount)\n",
    "\n",
    "    elif common_data(flat_index2,total_fragments[0]) == False:\n",
    "        index2.append(total_fragments.pop(0))\n",
    "        flat_index2 = [ item for elem in index2 for item in elem]\n",
    "        c2.append(seqcount)\n",
    "    \n",
    "    elif common_data(flat_index3,total_fragments[0]) == False:\n",
    "        index3.append(total_fragments.pop(0))\n",
    "        flat_index3 = [ item for elem in index3 for item in elem]\n",
    "        c3.append(seqcount)\n",
    "    \n",
    "    elif common_data(flat_index4,total_fragments[0]) == False:\n",
    "        index4.append(total_fragments.pop(0))\n",
    "        flat_index4 = [ item for elem in index4 for item in elem]\n",
    "        c4.append(seqcount)\n",
    "    \n",
    "    elif common_data(flat_index5,total_fragments[0]) == False:\n",
    "        index5.append(total_fragments.pop(0))\n",
    "        flat_index5 = [ item for elem in index5 for item in elem]\n",
    "        c5.append(seqcount)\n",
    "    \n",
    "    elif common_data(flat_index6,total_fragments[0]) == False:\n",
    "        index6.append(total_fragments.pop(0))\n",
    "        flat_index6 = [ item for elem in index6 for item in elem]\n",
    "        c6.append(seqcount)\n",
    "    \n",
    "    elif common_data(flat_index7,total_fragments[0]) == False:\n",
    "        index7.append(total_fragments.pop(0))\n",
    "        flat_index7 = [ item for elem in index7 for item in elem]\n",
    "        c7.append(seqcount)\n",
    "        \n",
    "    elif common_data(flat_index8,total_fragments[0]) == False:\n",
    "        index8.append(total_fragments.pop(0))\n",
    "        flat_index8 = [ item for elem in index8 for item in elem]\n",
    "        c8.append(seqcount)\n",
    "        \n",
    "    elif common_data(flat_index9,total_fragments[0]) == False:\n",
    "        index9.append(total_fragments.pop(0))\n",
    "        flat_index9 = [ item for elem in index9 for item in elem]\n",
    "        c9.append(seqcount)\n",
    "    \n",
    "    else:\n",
    "        index10.append(total_fragments.pop(0))\n",
    "        flat_index10 = [ item for elem in index10 for item in elem]\n",
    "        c10.append(seqcount)\n",
    "    \n",
    "    seqcount += 1\n",
    "\n",
    "\n",
    "        \n",
    "print(c1)\n",
    "print(c2)\n",
    "print(c3)\n",
    "print(c4)"
   ]
  },
  {
   "cell_type": "code",
   "execution_count": null,
   "metadata": {},
   "outputs": [],
   "source": []
  },
  {
   "cell_type": "code",
   "execution_count": null,
   "metadata": {},
   "outputs": [],
   "source": []
  }
 ],
 "metadata": {
  "kernelspec": {
   "display_name": "Python 3",
   "language": "python",
   "name": "python3"
  },
  "language_info": {
   "codemirror_mode": {
    "name": "ipython",
    "version": 3
   },
   "file_extension": ".py",
   "mimetype": "text/x-python",
   "name": "python",
   "nbconvert_exporter": "python",
   "pygments_lexer": "ipython3",
   "version": "3.7.7"
  }
 },
 "nbformat": 4,
 "nbformat_minor": 4
}
